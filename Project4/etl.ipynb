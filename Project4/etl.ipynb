{
 "cells": [
  {
   "cell_type": "markdown",
   "metadata": {},
   "source": [
    "# Data Lake"
   ]
  },
  {
   "cell_type": "code",
   "execution_count": 1,
   "metadata": {},
   "outputs": [],
   "source": [
    "import os\n",
    "import configparser\n",
    "from etl import *\n",
    "from datetime import datetime\n",
    "from pyspark.sql import SparkSession\n",
    "from resource_reader import *\n",
    "from sql_queries import *\n",
    "from pyspark.sql.functions import udf, to_timestamp, col, year, month, dayofmonth, hour, weekofyear, dayofweek, monotonically_increasing_id"
   ]
  },
  {
   "cell_type": "markdown",
   "metadata": {},
   "source": [
    "# 1. Load configuration parameters"
   ]
  },
  {
   "cell_type": "code",
   "execution_count": 2,
   "metadata": {},
   "outputs": [
    {
     "name": "stdout",
     "output_type": "stream",
     "text": [
      "Configs loaded!\n"
     ]
    }
   ],
   "source": [
    "rr = ResourceReader()\n",
    "config = rr.config_reader('dwh.yml')\n",
    "\n",
    "ACCESS_KEY_ID = config['AWS']['ACCESS_KEY_ID']\n",
    "SECRET_ACCESS_KEY = config['AWS']['SECRET_ACCESS_KEY']\n",
    "BUCKET_NAME = config['S3']['BUCKET_NAME']\n",
    "REGION = config['AWS']['REGION']\n",
    "\n",
    "# import AWS credential \n",
    "os.environ[\"AWS_ACCESS_KEY_ID\"] = ACCESS_KEY_ID\n",
    "os.environ[\"AWS_SECRET_ACCESS_KEY\"] = SECRET_ACCESS_KEY\n",
    "os.environ['PYSPARK_SUBMIT_ARGS'] = '--packages com.amazonaws:aws-java-sdk:1.11.95,org.apache.hadoop:hadoop-aws:3.3.1 pyspark-shell'\n",
    "    "
   ]
  },
  {
   "cell_type": "markdown",
   "metadata": {},
   "source": [
    "### Getting files in the bucket"
   ]
  },
  {
   "cell_type": "code",
   "execution_count": 3,
   "metadata": {},
   "outputs": [
    {
     "name": "stdout",
     "output_type": "stream",
     "text": [
      "Establish AWS services\n"
     ]
    }
   ],
   "source": [
    "rr.setup_aws_services(ACCESS_KEY_ID, SECRET_ACCESS_KEY, REGION)\n",
    "# rr.create_s3_bucket(config)\n",
    "# Don't forget to upload song & log data to <your own bucket if any>\n",
    "# rr.upload_file('whatever.txt', BUCKET_NAME)"
   ]
  },
  {
   "cell_type": "code",
   "execution_count": 4,
   "metadata": {},
   "outputs": [
    {
     "name": "stdout",
     "output_type": "stream",
     "text": [
      "[{'Name': 'myeyesbucket.test', 'CreationDate': datetime.datetime(2022, 8, 21, 17, 52, 22, tzinfo=tzutc())}]\n"
     ]
    }
   ],
   "source": [
    "response = rr.s3_client.list_buckets()\n",
    "print(response['Buckets'])"
   ]
  },
  {
   "cell_type": "code",
   "execution_count": 5,
   "metadata": {},
   "outputs": [
    {
     "name": "stdout",
     "output_type": "stream",
     "text": [
      "song_data/A/A/A/TRAAAAW128F429D538.json\n",
      "song_data/A/A/A/TRAAABD128F429CF47.json\n",
      "song_data/A/A/A/TRAAADZ128F9348C2E.json\n",
      "song_data/A/A/A/TRAAAEF128F4273421.json\n",
      "song_data/A/A/A/TRAAAFD128F92F423A.json\n",
      "---------------------------------------\n",
      "log_data/2018/11/2018-11-01-events.json\n",
      "log_data/2018/11/2018-11-02-events.json\n",
      "log_data/2018/11/2018-11-03-events.json\n",
      "log_data/2018/11/2018-11-04-events.json\n",
      "log_data/2018/11/2018-11-05-events.json\n"
     ]
    }
   ],
   "source": [
    "bucket = rr.s3_resource.Bucket(config['S3']['BUCKET_NAME'])\n",
    "song_data_files = [f.key for f in bucket.objects.filter(Prefix='song_data')]\n",
    "log_data_files = [f.key for f in bucket.objects.filter(Prefix='log_data')]\n",
    "for _ in song_data_files[:5]:\n",
    "    print(_)\n",
    "print('---------------------------------------')\n",
    "for _ in log_data_files[:5]:\n",
    "    print(_)"
   ]
  },
  {
   "cell_type": "markdown",
   "metadata": {},
   "source": [
    "# 2. Spark Session Creation"
   ]
  },
  {
   "cell_type": "code",
   "execution_count": 6,
   "metadata": {},
   "outputs": [
    {
     "name": "stdout",
     "output_type": "stream",
     "text": [
      "S3 spark session created\n"
     ]
    }
   ],
   "source": [
    "spark_session = create_spark_session_s3(config)"
   ]
  },
  {
   "cell_type": "markdown",
   "metadata": {},
   "source": [
    "## 2.1 Load Song Data"
   ]
  },
  {
   "cell_type": "code",
   "execution_count": 7,
   "metadata": {},
   "outputs": [
    {
     "name": "stdout",
     "output_type": "stream",
     "text": [
      "Spark data has established\n"
     ]
    }
   ],
   "source": [
    "songs_data = init_spark_data(spark_session, config['AWS']['SONG_DATA'])"
   ]
  },
  {
   "cell_type": "markdown",
   "metadata": {},
   "source": [
    "### 2.1.1 Verify song data schema & data"
   ]
  },
  {
   "cell_type": "code",
   "execution_count": 8,
   "metadata": {},
   "outputs": [
    {
     "name": "stdout",
     "output_type": "stream",
     "text": [
      "root\n",
      " |-- artist_id: string (nullable = true)\n",
      " |-- artist_latitude: double (nullable = true)\n",
      " |-- artist_location: string (nullable = true)\n",
      " |-- artist_longitude: double (nullable = true)\n",
      " |-- artist_name: string (nullable = true)\n",
      " |-- duration: double (nullable = true)\n",
      " |-- num_songs: long (nullable = true)\n",
      " |-- song_id: string (nullable = true)\n",
      " |-- title: string (nullable = true)\n",
      " |-- year: long (nullable = true)\n",
      "\n",
      "+------------------+---------------+-----------------+----------------+--------------------+---------+---------+------------------+--------------------+----+\n",
      "|         artist_id|artist_latitude|  artist_location|artist_longitude|         artist_name| duration|num_songs|           song_id|               title|year|\n",
      "+------------------+---------------+-----------------+----------------+--------------------+---------+---------+------------------+--------------------+----+\n",
      "|ARDR4AC1187FB371A1|           null|                 |            null|Montserrat Caball...|511.16363|        1|SOBAYLL12A8C138AF9|Sono andati? Fing...|   0|\n",
      "|AREBBGV1187FB523D2|           null|      Houston, TX|            null|Mike Jones (Featu...|173.66159|        1|SOOLYAZ12A6701F4A6|Laws Patrolling (...|   0|\n",
      "|ARMAC4T1187FB3FA4C|       40.82624|Morris Plains, NJ|       -74.47995|The Dillinger Esc...|207.77751|        1|SOBBUGU12A8C13E95D|Setting Fire to S...|2004|\n",
      "+------------------+---------------+-----------------+----------------+--------------------+---------+---------+------------------+--------------------+----+\n",
      "only showing top 3 rows\n",
      "\n"
     ]
    }
   ],
   "source": [
    "songs_data.printSchema()\n",
    "songs_data.show(3, truncate=True)"
   ]
  },
  {
   "cell_type": "markdown",
   "metadata": {},
   "source": [
    "## 2.2 Load log data"
   ]
  },
  {
   "cell_type": "code",
   "execution_count": 11,
   "metadata": {},
   "outputs": [
    {
     "name": "stdout",
     "output_type": "stream",
     "text": [
      "Spark data has established\n"
     ]
    }
   ],
   "source": [
    "logs_data = init_spark_data(spark_session, config['AWS']['LOG_DATA'])"
   ]
  },
  {
   "cell_type": "markdown",
   "metadata": {},
   "source": [
    "### 2.2.1 Verify log data schema & data"
   ]
  },
  {
   "cell_type": "code",
   "execution_count": 12,
   "metadata": {},
   "outputs": [
    {
     "name": "stdout",
     "output_type": "stream",
     "text": [
      "root\n",
      " |-- artist: string (nullable = true)\n",
      " |-- auth: string (nullable = true)\n",
      " |-- firstName: string (nullable = true)\n",
      " |-- gender: string (nullable = true)\n",
      " |-- itemInSession: long (nullable = true)\n",
      " |-- lastName: string (nullable = true)\n",
      " |-- length: double (nullable = true)\n",
      " |-- level: string (nullable = true)\n",
      " |-- location: string (nullable = true)\n",
      " |-- method: string (nullable = true)\n",
      " |-- page: string (nullable = true)\n",
      " |-- registration: double (nullable = true)\n",
      " |-- sessionId: long (nullable = true)\n",
      " |-- song: string (nullable = true)\n",
      " |-- status: long (nullable = true)\n",
      " |-- ts: long (nullable = true)\n",
      " |-- userAgent: string (nullable = true)\n",
      " |-- userId: string (nullable = true)\n",
      "\n",
      "+-----------+---------+---------+------+-------------+--------+---------+-----+--------------------+------+--------+-----------------+---------+---------------+------+-------------+--------------------+------+\n",
      "|     artist|     auth|firstName|gender|itemInSession|lastName|   length|level|            location|method|    page|     registration|sessionId|           song|status|           ts|           userAgent|userId|\n",
      "+-----------+---------+---------+------+-------------+--------+---------+-----+--------------------+------+--------+-----------------+---------+---------------+------+-------------+--------------------+------+\n",
      "|   Harmonia|Logged In|     Ryan|     M|            0|   Smith|655.77751| free|San Jose-Sunnyval...|   PUT|NextSong|1.541016707796E12|      583|  Sehr kosmisch|   200|1542241826796|\"Mozilla/5.0 (X11...|    26|\n",
      "|The Prodigy|Logged In|     Ryan|     M|            1|   Smith|260.07465| free|San Jose-Sunnyval...|   PUT|NextSong|1.541016707796E12|      583|The Big Gundown|   200|1542242481796|\"Mozilla/5.0 (X11...|    26|\n",
      "|      Train|Logged In|     Ryan|     M|            2|   Smith|205.45261| free|San Jose-Sunnyval...|   PUT|NextSong|1.541016707796E12|      583|       Marry Me|   200|1542242741796|\"Mozilla/5.0 (X11...|    26|\n",
      "+-----------+---------+---------+------+-------------+--------+---------+-----+--------------------+------+--------+-----------------+---------+---------------+------+-------------+--------------------+------+\n",
      "only showing top 3 rows\n",
      "\n"
     ]
    }
   ],
   "source": [
    "logs_data.printSchema()\n",
    "logs_data.show(3, truncate=True)"
   ]
  },
  {
   "cell_type": "markdown",
   "metadata": {},
   "source": [
    "### 2.2.2 Inquiry `NextSong` data"
   ]
  },
  {
   "cell_type": "code",
   "execution_count": 13,
   "metadata": {},
   "outputs": [],
   "source": [
    "logs_data_nextsong = logs_data.filter(logs_data.page == 'NextSong')"
   ]
  },
  {
   "cell_type": "markdown",
   "metadata": {},
   "source": [
    "### 2.2.3 Verify `NextSong` log data schema"
   ]
  },
  {
   "cell_type": "code",
   "execution_count": 14,
   "metadata": {},
   "outputs": [
    {
     "name": "stdout",
     "output_type": "stream",
     "text": [
      "root\n",
      " |-- artist: string (nullable = true)\n",
      " |-- auth: string (nullable = true)\n",
      " |-- firstName: string (nullable = true)\n",
      " |-- gender: string (nullable = true)\n",
      " |-- itemInSession: long (nullable = true)\n",
      " |-- lastName: string (nullable = true)\n",
      " |-- length: double (nullable = true)\n",
      " |-- level: string (nullable = true)\n",
      " |-- location: string (nullable = true)\n",
      " |-- method: string (nullable = true)\n",
      " |-- page: string (nullable = true)\n",
      " |-- registration: double (nullable = true)\n",
      " |-- sessionId: long (nullable = true)\n",
      " |-- song: string (nullable = true)\n",
      " |-- status: long (nullable = true)\n",
      " |-- ts: long (nullable = true)\n",
      " |-- userAgent: string (nullable = true)\n",
      " |-- userId: string (nullable = true)\n",
      "\n",
      "+-----------+---------+---------+------+-------------+--------+---------+-----+--------------------+------+--------+-----------------+---------+---------------+------+-------------+--------------------+------+\n",
      "|     artist|     auth|firstName|gender|itemInSession|lastName|   length|level|            location|method|    page|     registration|sessionId|           song|status|           ts|           userAgent|userId|\n",
      "+-----------+---------+---------+------+-------------+--------+---------+-----+--------------------+------+--------+-----------------+---------+---------------+------+-------------+--------------------+------+\n",
      "|   Harmonia|Logged In|     Ryan|     M|            0|   Smith|655.77751| free|San Jose-Sunnyval...|   PUT|NextSong|1.541016707796E12|      583|  Sehr kosmisch|   200|1542241826796|\"Mozilla/5.0 (X11...|    26|\n",
      "|The Prodigy|Logged In|     Ryan|     M|            1|   Smith|260.07465| free|San Jose-Sunnyval...|   PUT|NextSong|1.541016707796E12|      583|The Big Gundown|   200|1542242481796|\"Mozilla/5.0 (X11...|    26|\n",
      "|      Train|Logged In|     Ryan|     M|            2|   Smith|205.45261| free|San Jose-Sunnyval...|   PUT|NextSong|1.541016707796E12|      583|       Marry Me|   200|1542242741796|\"Mozilla/5.0 (X11...|    26|\n",
      "+-----------+---------+---------+------+-------------+--------+---------+-----+--------------------+------+--------+-----------------+---------+---------------+------+-------------+--------------------+------+\n",
      "only showing top 3 rows\n",
      "\n"
     ]
    }
   ],
   "source": [
    "logs_data_nextsong.printSchema()\n",
    "logs_data_nextsong.show(3, truncate=True)"
   ]
  },
  {
   "cell_type": "markdown",
   "metadata": {},
   "source": [
    "# 3. Table Creation"
   ]
  },
  {
   "cell_type": "markdown",
   "metadata": {},
   "source": [
    "## 3.1 `songs` table"
   ]
  },
  {
   "cell_type": "code",
   "execution_count": 15,
   "metadata": {},
   "outputs": [],
   "source": [
    "songs_tbl = create_table(spark_session, songs_data, songs_table_query_template)"
   ]
  },
  {
   "cell_type": "markdown",
   "metadata": {},
   "source": [
    "### 3.1.1 View `songs` schema & data"
   ]
  },
  {
   "cell_type": "code",
   "execution_count": 16,
   "metadata": {},
   "outputs": [
    {
     "name": "stdout",
     "output_type": "stream",
     "text": [
      "root\n",
      " |-- song_id: string (nullable = true)\n",
      " |-- title: string (nullable = true)\n",
      " |-- duration: double (nullable = true)\n",
      " |-- year: long (nullable = true)\n",
      " |-- artist_id: string (nullable = true)\n",
      "\n",
      "+------------------+--------------------+---------+----+------------------+\n",
      "|           song_id|               title| duration|year|         artist_id|\n",
      "+------------------+--------------------+---------+----+------------------+\n",
      "|SOAOIBZ12AB01815BE|I Hold Your Hand ...| 43.36281|2000|ARPBNLO1187FB3D52F|\n",
      "|SOBAYLL12A8C138AF9|Sono andati? Fing...|511.16363|   0|ARDR4AC1187FB371A1|\n",
      "|SOBBUGU12A8C13E95D|Setting Fire to S...|207.77751|2004|ARMAC4T1187FB3FA4C|\n",
      "|SOBBXLX12A58A79DDA|Erica (2005 Digit...|138.63138|   0|AREDBBQ1187B98AFF5|\n",
      "|SOBCOSW12A8C13D398|  Rumba De Barcelona|218.38322|   0|AR7SMBG1187B9B9066|\n",
      "+------------------+--------------------+---------+----+------------------+\n",
      "only showing top 5 rows\n",
      "\n"
     ]
    }
   ],
   "source": [
    "songs_tbl.printSchema()\n",
    "songs_tbl.show(5, truncate=True)"
   ]
  },
  {
   "cell_type": "markdown",
   "metadata": {},
   "source": [
    "### 3.1.2 Process `songs` data via Parquet"
   ]
  },
  {
   "cell_type": "code",
   "execution_count": 17,
   "metadata": {},
   "outputs": [
    {
     "name": "stdout",
     "output_type": "stream",
     "text": [
      "[PARQUET] files saved success\n"
     ]
    }
   ],
   "source": [
    "song_path = rr.resource_path_builder('output-data', 'parquet', 'song-data')\n",
    "save_as_parquet_format(songs_tbl, song_path, order_by=['artist_id', 'year'])"
   ]
  },
  {
   "cell_type": "markdown",
   "metadata": {},
   "source": [
    "### 3.1.3 Read `songs` data from parquet package"
   ]
  },
  {
   "cell_type": "code",
   "execution_count": 18,
   "metadata": {},
   "outputs": [
    {
     "name": "stdout",
     "output_type": "stream",
     "text": [
      "root\n",
      " |-- song_id: string (nullable = true)\n",
      " |-- title: string (nullable = true)\n",
      " |-- duration: double (nullable = true)\n",
      " |-- artist_id: string (nullable = true)\n",
      " |-- year: integer (nullable = true)\n",
      "\n",
      "+------------------+--------------------+---------+------------------+----+\n",
      "|           song_id|               title| duration|         artist_id|year|\n",
      "+------------------+--------------------+---------+------------------+----+\n",
      "|SOAOIBZ12AB01815BE|I Hold Your Hand ...| 43.36281|ARPBNLO1187FB3D52F|2000|\n",
      "|SONYPOM12A8C13B2D7|I Think My Wife I...|186.48771|ARDNS031187B9924F0|2005|\n",
      "|SODREIN12A58A7F2E5|A Whiter Shade Of...|326.00771|ARLTWXK1187FB5A3F8|   0|\n",
      "|SOYMRWW12A6D4FAB14|The Moon And I (O...| 267.7024|ARKFYS91187B98E58F|   0|\n",
      "|SOWQTQZ12A58A7B63E|Streets On Fire (...|279.97995|ARPFHN61187FB575F6|   0|\n",
      "+------------------+--------------------+---------+------------------+----+\n",
      "only showing top 5 rows\n",
      "\n"
     ]
    }
   ],
   "source": [
    "song_data_parquet = read_parquet_format(spark_session, str(song_path) + '/')\n",
    "song_data_parquet.printSchema()\n",
    "song_data_parquet.show(5)"
   ]
  },
  {
   "cell_type": "markdown",
   "metadata": {},
   "source": [
    "## 3.2. `artists` table"
   ]
  },
  {
   "cell_type": "code",
   "execution_count": 19,
   "metadata": {},
   "outputs": [],
   "source": [
    "artists_tbl = create_table(spark_session, songs_data, artists_table_query_template)"
   ]
  },
  {
   "cell_type": "markdown",
   "metadata": {},
   "source": [
    "### 3.2.1 View `artists` schema & data"
   ]
  },
  {
   "cell_type": "code",
   "execution_count": 20,
   "metadata": {},
   "outputs": [
    {
     "name": "stdout",
     "output_type": "stream",
     "text": [
      "root\n",
      " |-- artist_id: string (nullable = true)\n",
      " |-- artist_name: string (nullable = true)\n",
      " |-- artist_location: string (nullable = true)\n",
      " |-- artist_latitude: double (nullable = true)\n",
      " |-- artist_longitude: double (nullable = true)\n",
      "\n",
      "+------------------+------------------+---------------+---------------+----------------+\n",
      "|         artist_id|       artist_name|artist_location|artist_latitude|artist_longitude|\n",
      "+------------------+------------------+---------------+---------------+----------------+\n",
      "|ARYKCQI1187FB3B18F|             Tesla|               |           null|            null|\n",
      "|ARXR32B1187FB57099|               Gob|               |           null|            null|\n",
      "|ARWB3G61187FB49404|       Steve Morse| Hamilton, Ohio|           null|            null|\n",
      "|ARVBRGZ1187FB4675A|      Gwen Stefani|               |           null|            null|\n",
      "|ARULZCI1241B9C8611|Luna Orbit Project|               |           null|            null|\n",
      "+------------------+------------------+---------------+---------------+----------------+\n",
      "only showing top 5 rows\n",
      "\n"
     ]
    }
   ],
   "source": [
    "artists_tbl.printSchema()\n",
    "artists_tbl.show(5, truncate=True)"
   ]
  },
  {
   "cell_type": "markdown",
   "metadata": {},
   "source": [
    "### 3.2.2 Process `artists` data via Parquet"
   ]
  },
  {
   "cell_type": "code",
   "execution_count": 21,
   "metadata": {},
   "outputs": [
    {
     "name": "stdout",
     "output_type": "stream",
     "text": [
      "[PARQUET] files saved success\n"
     ]
    }
   ],
   "source": [
    "artist_path = rr.resource_path_builder('output-data', 'parquet', 'artist-data')\n",
    "save_as_parquet_format(artists_tbl, artist_path, order_by='artist_id')"
   ]
  },
  {
   "cell_type": "markdown",
   "metadata": {},
   "source": [
    "### 3.2.3 Read `artists` data from parquet package"
   ]
  },
  {
   "cell_type": "code",
   "execution_count": 22,
   "metadata": {},
   "outputs": [
    {
     "name": "stdout",
     "output_type": "stream",
     "text": [
      "root\n",
      " |-- artist_name: string (nullable = true)\n",
      " |-- artist_location: string (nullable = true)\n",
      " |-- artist_latitude: double (nullable = true)\n",
      " |-- artist_longitude: double (nullable = true)\n",
      " |-- artist_id: string (nullable = true)\n",
      "\n",
      "+--------------------+--------------------+---------------+----------------+------------------+\n",
      "|         artist_name|     artist_location|artist_latitude|artist_longitude|         artist_id|\n",
      "+--------------------+--------------------+---------------+----------------+------------------+\n",
      "|Montserrat Caball...|                    |           null|            null|ARDR4AC1187FB371A1|\n",
      "|The Dillinger Esc...|   Morris Plains, NJ|       40.82624|       -74.47995|ARMAC4T1187FB3FA4C|\n",
      "|   Sophie B. Hawkins|New York, NY [Man...|       40.79086|       -73.96644|ARNF6401187FB57032|\n",
      "|         Willie Bobo|New York, NY [Spa...|       40.79195|       -73.94512|AROUOZZ1187B9ABE51|\n",
      "|Nick Ingman;Gavyn...|     London, England|       51.50632|        -0.12714|ARI2JSK1187FB496EF|\n",
      "+--------------------+--------------------+---------------+----------------+------------------+\n",
      "only showing top 5 rows\n",
      "\n"
     ]
    }
   ],
   "source": [
    "artist_data_parquet = read_parquet_format(spark_session, str(artist_path) + '/')\n",
    "artist_data_parquet.printSchema()\n",
    "artist_data_parquet.show(5)"
   ]
  },
  {
   "cell_type": "markdown",
   "metadata": {},
   "source": [
    "## 3.3 `users` table"
   ]
  },
  {
   "cell_type": "code",
   "execution_count": 23,
   "metadata": {},
   "outputs": [],
   "source": [
    "users_tbl = create_table(spark_session, logs_data_nextsong, users_table_query_template)"
   ]
  },
  {
   "cell_type": "markdown",
   "metadata": {},
   "source": [
    "### 3.3.1 View `users` schema & data"
   ]
  },
  {
   "cell_type": "code",
   "execution_count": 24,
   "metadata": {},
   "outputs": [
    {
     "name": "stdout",
     "output_type": "stream",
     "text": [
      "root\n",
      " |-- user_id: string (nullable = true)\n",
      " |-- first_name: string (nullable = true)\n",
      " |-- last_name: string (nullable = true)\n",
      " |-- gender: string (nullable = true)\n",
      " |-- level: string (nullable = true)\n",
      "\n",
      "+-------+----------+---------+------+-----+\n",
      "|user_id|first_name|last_name|gender|level|\n",
      "+-------+----------+---------+------+-----+\n",
      "|      7|    Adelyn|   Jordan|     F| free|\n",
      "|    100|     Adler|  Barrera|     M| free|\n",
      "|     86|     Aiden|     Hess|     M| free|\n",
      "|     20|     Aiden|  Ramirez|     M| paid|\n",
      "|     44|    Aleena|    Kirby|     F| paid|\n",
      "+-------+----------+---------+------+-----+\n",
      "only showing top 5 rows\n",
      "\n"
     ]
    }
   ],
   "source": [
    "users_tbl.printSchema()\n",
    "users_tbl.show(5)"
   ]
  },
  {
   "cell_type": "markdown",
   "metadata": {},
   "source": [
    "### 3.3.2 Process `users` data via Parquet"
   ]
  },
  {
   "cell_type": "code",
   "execution_count": 25,
   "metadata": {},
   "outputs": [
    {
     "name": "stdout",
     "output_type": "stream",
     "text": [
      "[PARQUET] files saved success\n"
     ]
    }
   ],
   "source": [
    "user_path = rr.resource_path_builder('output-data', 'parquet', 'user-data')\n",
    "save_as_parquet_format(users_tbl, user_path, order_by=['first_name', 'last_name'])"
   ]
  },
  {
   "cell_type": "markdown",
   "metadata": {},
   "source": [
    "### 3.3.3 Read `users` data from parquet package"
   ]
  },
  {
   "cell_type": "code",
   "execution_count": 26,
   "metadata": {},
   "outputs": [
    {
     "name": "stdout",
     "output_type": "stream",
     "text": [
      "root\n",
      " |-- user_id: string (nullable = true)\n",
      " |-- gender: string (nullable = true)\n",
      " |-- level: string (nullable = true)\n",
      " |-- first_name: string (nullable = true)\n",
      " |-- last_name: string (nullable = true)\n",
      "\n",
      "+-------+------+-----+----------+---------+\n",
      "|user_id|gender|level|first_name|last_name|\n",
      "+-------+------+-----+----------+---------+\n",
      "|     50|     F| free|       Ava| Robinson|\n",
      "|     13|     F| free|       Ava| Robinson|\n",
      "|     15|     F| paid|      Lily|     Koch|\n",
      "|     15|     F| free|      Lily|     Koch|\n",
      "|     29|     F| paid|Jacqueline|    Lynch|\n",
      "+-------+------+-----+----------+---------+\n",
      "only showing top 5 rows\n",
      "\n"
     ]
    }
   ],
   "source": [
    "user_data_parquet = read_parquet_format(spark_session, str(user_path) + '/')\n",
    "user_data_parquet.printSchema()\n",
    "user_data_parquet.show(5)"
   ]
  },
  {
   "cell_type": "markdown",
   "metadata": {},
   "source": [
    "## 3.4 `time` table"
   ]
  },
  {
   "cell_type": "markdown",
   "metadata": {},
   "source": [
    "### 3.4.1 Format column data `ts` as timestamp"
   ]
  },
  {
   "cell_type": "code",
   "execution_count": 27,
   "metadata": {},
   "outputs": [
    {
     "name": "stdout",
     "output_type": "stream",
     "text": [
      "root\n",
      " |-- artist: string (nullable = true)\n",
      " |-- auth: string (nullable = true)\n",
      " |-- firstName: string (nullable = true)\n",
      " |-- gender: string (nullable = true)\n",
      " |-- itemInSession: long (nullable = true)\n",
      " |-- lastName: string (nullable = true)\n",
      " |-- length: double (nullable = true)\n",
      " |-- level: string (nullable = true)\n",
      " |-- location: string (nullable = true)\n",
      " |-- method: string (nullable = true)\n",
      " |-- page: string (nullable = true)\n",
      " |-- registration: double (nullable = true)\n",
      " |-- sessionId: long (nullable = true)\n",
      " |-- song: string (nullable = true)\n",
      " |-- status: long (nullable = true)\n",
      " |-- ts: long (nullable = true)\n",
      " |-- userAgent: string (nullable = true)\n",
      " |-- userId: string (nullable = true)\n",
      " |-- time_stamp: timestamp (nullable = true)\n",
      "\n"
     ]
    }
   ],
   "source": [
    "# add \"time_stamp\" column by extract from \"ts\" data\n",
    "logs_data_nextsong = logs_data_nextsong.withColumn('time_stamp', to_timestamp(logs_data_nextsong.ts / 1000))\n",
    "logs_data_nextsong.printSchema()"
   ]
  },
  {
   "cell_type": "markdown",
   "metadata": {},
   "source": [
    "### 3.4.2 Definition of `time` table"
   ]
  },
  {
   "cell_type": "code",
   "execution_count": 28,
   "metadata": {},
   "outputs": [],
   "source": [
    "time_tbl = create_table(spark_session, logs_data_nextsong, time_table_query_template)"
   ]
  },
  {
   "cell_type": "markdown",
   "metadata": {},
   "source": [
    "### 3.4.3 View `time` schema & data"
   ]
  },
  {
   "cell_type": "code",
   "execution_count": 29,
   "metadata": {},
   "outputs": [
    {
     "name": "stdout",
     "output_type": "stream",
     "text": [
      "root\n",
      " |-- time_stamp: timestamp (nullable = true)\n",
      " |-- year: integer (nullable = true)\n",
      " |-- month: integer (nullable = true)\n",
      " |-- day: integer (nullable = true)\n",
      " |-- hour: integer (nullable = true)\n",
      " |-- week: integer (nullable = true)\n",
      " |-- weekday: integer (nullable = true)\n",
      "\n",
      "+-----------------------+----+-----+---+----+----+-------+\n",
      "|time_stamp             |year|month|day|hour|week|weekday|\n",
      "+-----------------------+----+-----+---+----+----+-------+\n",
      "|2018-11-15 17:15:12.796|2018|11   |15 |17  |46  |5      |\n",
      "|2018-11-16 01:48:45.796|2018|11   |16 |1   |46  |6      |\n",
      "|2018-11-16 05:20:27.796|2018|11   |16 |5   |46  |6      |\n",
      "+-----------------------+----+-----+---+----+----+-------+\n",
      "only showing top 3 rows\n",
      "\n"
     ]
    }
   ],
   "source": [
    "time_tbl.printSchema()\n",
    "time_tbl.show(3, truncate=False)"
   ]
  },
  {
   "cell_type": "markdown",
   "metadata": {},
   "source": [
    "### 3.4.5 Process `time` data via Parquet"
   ]
  },
  {
   "cell_type": "code",
   "execution_count": 30,
   "metadata": {},
   "outputs": [
    {
     "name": "stdout",
     "output_type": "stream",
     "text": [
      "[PARQUET] files saved success\n"
     ]
    }
   ],
   "source": [
    "time_path = rr.resource_path_builder('output-data', 'parquet', 'time-data')\n",
    "save_as_parquet_format(time_tbl, time_path, order_by=['year', 'month'])"
   ]
  },
  {
   "cell_type": "markdown",
   "metadata": {},
   "source": [
    "### 3.4.6 Read `time` data from parquet package"
   ]
  },
  {
   "cell_type": "code",
   "execution_count": 31,
   "metadata": {},
   "outputs": [
    {
     "name": "stdout",
     "output_type": "stream",
     "text": [
      "root\n",
      " |-- time_stamp: timestamp (nullable = true)\n",
      " |-- day: integer (nullable = true)\n",
      " |-- hour: integer (nullable = true)\n",
      " |-- week: integer (nullable = true)\n",
      " |-- weekday: integer (nullable = true)\n",
      " |-- year: integer (nullable = true)\n",
      " |-- month: integer (nullable = true)\n",
      "\n",
      "+--------------------+---+----+----+-------+----+-----+\n",
      "|          time_stamp|day|hour|week|weekday|year|month|\n",
      "+--------------------+---+----+----+-------+----+-----+\n",
      "|2018-11-15 17:15:...| 15|  17|  46|      5|2018|   11|\n",
      "|2018-11-16 01:48:...| 16|   1|  46|      6|2018|   11|\n",
      "|2018-11-16 05:20:...| 16|   5|  46|      6|2018|   11|\n",
      "|2018-11-21 08:09:...| 21|   8|  47|      4|2018|   11|\n",
      "|2018-11-22 03:27:...| 22|   3|  47|      5|2018|   11|\n",
      "+--------------------+---+----+----+-------+----+-----+\n",
      "only showing top 5 rows\n",
      "\n"
     ]
    }
   ],
   "source": [
    "time_data_parquet = read_parquet_format(spark_session, str(time_path) + '/')\n",
    "time_data_parquet.printSchema()\n",
    "time_data_parquet.show(5)"
   ]
  },
  {
   "cell_type": "markdown",
   "metadata": {},
   "source": [
    "## 3.5 `songplays` table"
   ]
  },
  {
   "cell_type": "markdown",
   "metadata": {},
   "source": [
    "### 3.5.1 Concatenate songs data and logs data as `songplays` table data"
   ]
  },
  {
   "cell_type": "markdown",
   "metadata": {},
   "source": [
    "_Add definition `songplay_id` column into log data_"
   ]
  },
  {
   "cell_type": "code",
   "execution_count": 32,
   "metadata": {},
   "outputs": [
    {
     "name": "stdout",
     "output_type": "stream",
     "text": [
      "root\n",
      " |-- artist: string (nullable = true)\n",
      " |-- auth: string (nullable = true)\n",
      " |-- firstName: string (nullable = true)\n",
      " |-- gender: string (nullable = true)\n",
      " |-- itemInSession: long (nullable = true)\n",
      " |-- lastName: string (nullable = true)\n",
      " |-- length: double (nullable = true)\n",
      " |-- level: string (nullable = true)\n",
      " |-- location: string (nullable = true)\n",
      " |-- method: string (nullable = true)\n",
      " |-- page: string (nullable = true)\n",
      " |-- registration: double (nullable = true)\n",
      " |-- sessionId: long (nullable = true)\n",
      " |-- song: string (nullable = true)\n",
      " |-- status: long (nullable = true)\n",
      " |-- ts: long (nullable = true)\n",
      " |-- userAgent: string (nullable = true)\n",
      " |-- userId: string (nullable = true)\n",
      " |-- time_stamp: timestamp (nullable = true)\n",
      " |-- songplay_id: long (nullable = false)\n",
      "\n"
     ]
    }
   ],
   "source": [
    "logs_data_nextsong = logs_data_nextsong.withColumn('songplay_id', monotonically_increasing_id())\n",
    "logs_data_nextsong.printSchema()"
   ]
  },
  {
   "cell_type": "code",
   "execution_count": 33,
   "metadata": {},
   "outputs": [
    {
     "name": "stdout",
     "output_type": "stream",
     "text": [
      "+-----------+---------+---------+------+-------------+--------+---------+-----+--------------------+------+--------+-----------------+---------+---------------+------+-------------+--------------------+------+--------------------+-----------+\n",
      "|     artist|     auth|firstName|gender|itemInSession|lastName|   length|level|            location|method|    page|     registration|sessionId|           song|status|           ts|           userAgent|userId|          time_stamp|songplay_id|\n",
      "+-----------+---------+---------+------+-------------+--------+---------+-----+--------------------+------+--------+-----------------+---------+---------------+------+-------------+--------------------+------+--------------------+-----------+\n",
      "|   Harmonia|Logged In|     Ryan|     M|            0|   Smith|655.77751| free|San Jose-Sunnyval...|   PUT|NextSong|1.541016707796E12|      583|  Sehr kosmisch|   200|1542241826796|\"Mozilla/5.0 (X11...|    26|2018-11-15 07:30:...|          0|\n",
      "|The Prodigy|Logged In|     Ryan|     M|            1|   Smith|260.07465| free|San Jose-Sunnyval...|   PUT|NextSong|1.541016707796E12|      583|The Big Gundown|   200|1542242481796|\"Mozilla/5.0 (X11...|    26|2018-11-15 07:41:...|          1|\n",
      "|      Train|Logged In|     Ryan|     M|            2|   Smith|205.45261| free|San Jose-Sunnyval...|   PUT|NextSong|1.541016707796E12|      583|       Marry Me|   200|1542242741796|\"Mozilla/5.0 (X11...|    26|2018-11-15 07:45:...|          2|\n",
      "+-----------+---------+---------+------+-------------+--------+---------+-----+--------------------+------+--------+-----------------+---------+---------------+------+-------------+--------------------+------+--------------------+-----------+\n",
      "only showing top 3 rows\n",
      "\n"
     ]
    }
   ],
   "source": [
    "logs_data_nextsong.show(3, truncate=True)"
   ]
  },
  {
   "cell_type": "markdown",
   "metadata": {},
   "source": [
    "### 3.5.2 Definition of `songplays` table"
   ]
  },
  {
   "cell_type": "code",
   "execution_count": 35,
   "metadata": {},
   "outputs": [
    {
     "name": "stdout",
     "output_type": "stream",
     "text": [
      "root\n",
      " |-- songplay_id: long (nullable = false)\n",
      " |-- song_id: string (nullable = true)\n",
      " |-- time_stamp: timestamp (nullable = true)\n",
      " |-- level: string (nullable = true)\n",
      " |-- artist_id: string (nullable = true)\n",
      " |-- session_id: long (nullable = true)\n",
      " |-- user_id: string (nullable = true)\n",
      " |-- location: string (nullable = true)\n",
      " |-- user_agent: string (nullable = true)\n",
      "\n",
      "+-----------+------------------+-----------------------+-----+------------------+----------+-------+----------------------------------+-----------------------------------------------------------------------------------------------------------------------------------------+\n",
      "|songplay_id|song_id           |time_stamp             |level|artist_id         |session_id|user_id|location                          |user_agent                                                                                                                               |\n",
      "+-----------+------------------+-----------------------+-----+------------------+----------+-------+----------------------------------+-----------------------------------------------------------------------------------------------------------------------------------------+\n",
      "|882        |SOZCTXZ12AB0182364|2018-11-22 04:56:47.796|paid |AR5KOSW1187FB35FF4|818       |15     |Chicago-Naperville-Elgin, IL-IN-WI|\"Mozilla/5.0 (X11; Linux x86_64) AppleWebKit/537.36 (KHTML, like Gecko) Ubuntu Chromium/36.0.1985.125 Chrome/36.0.1985.125 Safari/537.36\"|\n",
      "+-----------+------------------+-----------------------+-----+------------------+----------+-------+----------------------------------+-----------------------------------------------------------------------------------------------------------------------------------------+\n",
      "\n"
     ]
    }
   ],
   "source": [
    "songplays_tbl = create_nextsong_table(spark_session, songs_data, logs_data_nextsong)\n",
    "songplays_tbl.printSchema()\n",
    "songplays_tbl.show(3, truncate=False)"
   ]
  },
  {
   "cell_type": "markdown",
   "metadata": {},
   "source": [
    "### 3.5.3 Process `songplays` data via Parquet"
   ]
  },
  {
   "cell_type": "code",
   "execution_count": 36,
   "metadata": {},
   "outputs": [
    {
     "name": "stdout",
     "output_type": "stream",
     "text": [
      "[PARQUET] files saved success\n"
     ]
    }
   ],
   "source": [
    "songplays_path = rr.resource_path_builder('output-data', 'parquet', 'songplays-data')\n",
    "save_as_parquet_format(songplays_tbl, songplays_path)"
   ]
  },
  {
   "cell_type": "markdown",
   "metadata": {},
   "source": [
    "### 3.5.4 Read time data from parquet package"
   ]
  },
  {
   "cell_type": "code",
   "execution_count": 37,
   "metadata": {},
   "outputs": [
    {
     "name": "stdout",
     "output_type": "stream",
     "text": [
      "root\n",
      " |-- songplay_id: long (nullable = true)\n",
      " |-- song_id: string (nullable = true)\n",
      " |-- time_stamp: timestamp (nullable = true)\n",
      " |-- level: string (nullable = true)\n",
      " |-- artist_id: string (nullable = true)\n",
      " |-- session_id: long (nullable = true)\n",
      " |-- user_id: string (nullable = true)\n",
      " |-- location: string (nullable = true)\n",
      " |-- user_agent: string (nullable = true)\n",
      "\n",
      "+-----------+------------------+--------------------+-----+------------------+----------+-------+--------------------+--------------------+\n",
      "|songplay_id|           song_id|          time_stamp|level|         artist_id|session_id|user_id|            location|          user_agent|\n",
      "+-----------+------------------+--------------------+-----+------------------+----------+-------+--------------------+--------------------+\n",
      "|        882|SOZCTXZ12AB0182364|2018-11-22 04:56:...| paid|AR5KOSW1187FB35FF4|       818|     15|Chicago-Napervill...|\"Mozilla/5.0 (X11...|\n",
      "+-----------+------------------+--------------------+-----+------------------+----------+-------+--------------------+--------------------+\n",
      "\n"
     ]
    }
   ],
   "source": [
    "songplays_parquet = read_parquet_format(spark_session, str(songplays_path) + '/')\n",
    "songplays_parquet.printSchema()\n",
    "songplays_parquet.show(3, truncate=True)"
   ]
  },
  {
   "cell_type": "markdown",
   "metadata": {},
   "source": [
    "# Clean Up Storage"
   ]
  },
  {
   "cell_type": "markdown",
   "metadata": {},
   "source": [
    "### <font color=red> _BE CAREFUL!!! Keep your eyes lean on your files & folders_</font>"
   ]
  },
  {
   "cell_type": "code",
   "execution_count": 44,
   "metadata": {},
   "outputs": [],
   "source": [
    "import shutil\n",
    "\n",
    "# Put them here and double check your path\n",
    "# print(song_path)\n",
    "# print(artist_path)\n",
    "# print(user_path)\n",
    "# print(songplay_path)\n",
    "# print(time_path)"
   ]
  },
  {
   "cell_type": "code",
   "execution_count": 45,
   "metadata": {},
   "outputs": [],
   "source": [
    "# shutil.rmtree(song_path)\n",
    "# shutil.rmtree(artist_path)\n",
    "# shutil.rmtree(user_path)\n",
    "# shutil.rmtree(songplay_path)\n",
    "# rr.delete_s3_bucket(BUCKET_NAME)"
   ]
  }
 ],
 "metadata": {
  "kernelspec": {
   "display_name": "Python 3 (ipykernel)",
   "language": "python",
   "name": "python3"
  },
  "language_info": {
   "codemirror_mode": {
    "name": "ipython",
    "version": 3
   },
   "file_extension": ".py",
   "mimetype": "text/x-python",
   "name": "python",
   "nbconvert_exporter": "python",
   "pygments_lexer": "ipython3",
   "version": "3.10.6"
  },
  "toc": {
   "base_numbering": 1,
   "nav_menu": {},
   "number_sections": false,
   "sideBar": true,
   "skip_h1_title": false,
   "title_cell": "Table of Contents",
   "title_sidebar": "Contents",
   "toc_cell": false,
   "toc_position": {},
   "toc_section_display": true,
   "toc_window_display": false
  }
 },
 "nbformat": 4,
 "nbformat_minor": 4
}
